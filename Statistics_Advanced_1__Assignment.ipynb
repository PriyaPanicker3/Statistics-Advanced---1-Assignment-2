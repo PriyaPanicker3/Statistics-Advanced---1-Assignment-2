{
  "nbformat": 4,
  "nbformat_minor": 0,
  "metadata": {
    "colab": {
      "provenance": []
    },
    "kernelspec": {
      "name": "python3",
      "display_name": "Python 3"
    },
    "language_info": {
      "name": "python"
    }
  },
  "cells": [
    {
      "cell_type": "markdown",
      "source": [
        "# *Statistics Advanced - 1| Assignment *"
      ],
      "metadata": {
        "id": "vR57ioknDleD"
      }
    },
    {
      "cell_type": "markdown",
      "source": [
        "Question 1: What is a random variable in probability theory?\n",
        "\n",
        "Answer: A random variable is a numerical quantity whose value depends on the outcome of a random experiment. It assigns numbers to each outcome in the sample space. Random variables can be used to model uncertainty in real-world situations."
      ],
      "metadata": {
        "id": "ZC72gmflD0qS"
      }
    },
    {
      "cell_type": "markdown",
      "source": [
        "Question 2: What are the types of random variables?\n",
        "\n",
        "Answer:\n",
        "\n",
        "Discrete random variable – Takes on a finite or countably infinite set of possible values (e.g., number of heads in coin tosses).\n",
        "\n",
        "Continuous random variable – Takes on an infinite number of possible values within a range or interval (e.g., height, weight, temperature)."
      ],
      "metadata": {
        "id": "qSxr2hQ1D6Ab"
      }
    },
    {
      "cell_type": "markdown",
      "source": [
        "Question 3: Explain the difference between discrete and continuous distributions.\n",
        "\n",
        "Answer:\n",
        "\n",
        "Discrete distribution: Probability is assigned to specific, countable values. The probability mass function (PMF) describes it. Example: Binomial distribution.\n",
        "\n",
        "Continuous distribution: Probability is assigned over intervals; individual points have zero probability. The probability density function (PDF) describes it. Example: Normal distribution."
      ],
      "metadata": {
        "id": "zSqiWB_fEBby"
      }
    },
    {
      "cell_type": "markdown",
      "source": [
        "Question 4: What is a binomial distribution, and how is it used in probability?\n",
        "\n",
        "Answer: A binomial distribution describes the probability of obtaining a fixed number of successes in a given number of independent trials, where each trial has only two possible outcomes (success or failure) and a constant probability of success. It is used in quality control, genetics, and survey analysis."
      ],
      "metadata": {
        "id": "EgudThXYEGrh"
      }
    },
    {
      "cell_type": "markdown",
      "source": [
        "Question 5: What is the standard normal distribution, and why is it important?\n",
        "\n",
        "Answer: The standard normal distribution is a normal distribution with a mean of 0 and a standard deviation of 1. It is important because it allows for the use of standard Z-scores to compare values from different normal distributions and to calculate probabilities using standard statistical tables."
      ],
      "metadata": {
        "id": "eA2kTQvTEKaB"
      }
    },
    {
      "cell_type": "markdown",
      "source": [
        "Question 6: What is the Central Limit Theorem (CLT), and why is it critical in statistics?\n",
        "\n",
        "Answer: The CLT states that the sampling distribution of the sample mean approaches a normal distribution as the sample size increases, regardless of the population’s original distribution, provided the samples are independent and identically distributed. It’s critical because it allows statisticians to make inferences about population means using normal probability methods even when the population is not normally distributed."
      ],
      "metadata": {
        "id": "GldyV701ENuS"
      }
    },
    {
      "cell_type": "markdown",
      "source": [
        "Question 7: What is the significance of confidence intervals in statistical analysis?\n",
        "\n",
        "Answer: Confidence intervals provide a range of values within which we can expect the population parameter to lie, with a given level of confidence (e.g., 95%). They quantify the uncertainty in estimating population parameters and are used for making decisions in research and business."
      ],
      "metadata": {
        "id": "wt_gXvw9ERcZ"
      }
    },
    {
      "cell_type": "markdown",
      "source": [
        "Question 8: What is the concept of expected value in a probability distribution?\n",
        "\n",
        "Answer: The expected value is the long-run average or mean value of a random variable over numerous repetitions of the experiment. It is calculated by summing (or integrating) the product of each possible value and its probability."
      ],
      "metadata": {
        "id": "ibTp30LlEUSz"
      }
    },
    {
      "cell_type": "code",
      "source": [
        "#Question 9: Write a Python program to generate 1000 random numbers from a normal distribution with mean = 50 and standard deviation = 5. Compute its mean and standard deviation using NumPy, and draw a histogram to visualize the distribution.\n",
        "\n",
        "import numpy as np\n",
        "import matplotlib.pyplot as plt\n",
        "\n",
        "# Generate 1000 random numbers\n",
        "data = np.random.normal(loc=50, scale=5, size=1000)\n",
        "\n",
        "# Calculate mean and standard deviation\n",
        "mean_val = np.mean(data)\n",
        "std_val = np.std(data)\n",
        "\n",
        "print(\"Mean:\", mean_val)\n",
        "print(\"Standard Deviation:\", std_val)\n",
        "\n",
        "# Plot histogram\n",
        "plt.hist(data, bins=30, edgecolor='black')\n",
        "plt.title(\"Normal Distribution (mean=50, std=5)\")\n",
        "plt.xlabel(\"Value\")\n",
        "plt.ylabel(\"Frequency\")\n",
        "plt.show()\n"
      ],
      "metadata": {
        "colab": {
          "base_uri": "https://localhost:8080/",
          "height": 507
        },
        "id": "3pgmEj-xEZuR",
        "outputId": "6b93274d-de81-4711-bc15-d9899ac951fc"
      },
      "execution_count": 1,
      "outputs": [
        {
          "output_type": "stream",
          "name": "stdout",
          "text": [
            "Mean: 50.03484846909009\n",
            "Standard Deviation: 4.978095330055435\n"
          ]
        },
        {
          "output_type": "display_data",
          "data": {
            "text/plain": [
              "<Figure size 640x480 with 1 Axes>"
            ],
            "image/png": "[encoded data removed]"
          },
          "metadata": {}
        }
      ]
    },
    {
      "cell_type": "code",
      "source": [
        "#Question 10: You are working as a data analyst for a retail company. The company has collected daily sales data for 2 years and wants you to identify the overall sales trend.\n",
        "\n",
        "#Daily sales:\n",
        "#[220, 245, 210, 265, 230, 250, 260, 275, 240, 255, 235, 260, 245, 250, 225, 270, 265, 255, 250, 260]\n",
        "\n",
        "#● Explain how you would apply the Central Limit Theorem to estimate the average sales with a 95% confidence interval:\n",
        "#By the CLT, even if daily sales are not normally distributed, the sample mean will be approximately normally distributed for a sufficiently large sample size. We can calculate the sample mean, sample standard deviation, and then use the normal distribution to construct the 95% confidence interval.\n",
        "\n",
        "import numpy as np\n",
        "import scipy.stats as stats\n",
        "\n",
        "daily_sales = [220, 245, 210, 265, 230, 250, 260, 275, 240, 255,\n",
        "               235, 260, 245, 250, 225, 270, 265, 255, 250, 260]\n",
        "\n",
        "# Calculate mean and standard error\n",
        "mean_sales = np.mean(daily_sales)\n",
        "std_err = stats.sem(daily_sales)\n",
        "\n",
        "# 95% confidence interval\n",
        "confidence_interval = stats.t.interval(0.95, len(daily_sales)-1, loc=mean_sales, scale=std_err)\n",
        "\n",
        "print(\"Mean Sales:\", mean_sales)\n",
        "print(\"95% Confidence Interval:\", confidence_interval)\n"
      ],
      "metadata": {
        "colab": {
          "base_uri": "https://localhost:8080/"
        },
        "id": "rQp7apOyEsl0",
        "outputId": "2aad5a85-7256-42ac-c9e3-ae09b0aaaf75"
      },
      "execution_count": 2,
      "outputs": [
        {
          "output_type": "stream",
          "name": "stdout",
          "text": [
            "Mean Sales: 248.25\n",
            "95% Confidence Interval: (np.float64(240.16957025147158), np.float64(256.3304297485284))\n"
          ]
        }
      ]
    }
  ]
}